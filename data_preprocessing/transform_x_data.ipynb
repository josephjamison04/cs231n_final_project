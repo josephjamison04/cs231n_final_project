{
 "cells": [
  {
   "cell_type": "code",
   "execution_count": 3,
   "metadata": {},
   "outputs": [],
   "source": [
    "import numpy as np\n",
    "import pandas as pd"
   ]
  },
  {
   "cell_type": "code",
   "execution_count": 4,
   "metadata": {},
   "outputs": [
    {
     "name": "stdout",
     "output_type": "stream",
     "text": [
      "[103 111 115]\n",
      "[71.08110246 66.65810963 67.36857567]\n"
     ]
    }
   ],
   "source": [
    "data_dir = '/Users/josephjamison/Downloads/CS231n_temp/'\n",
    "\n",
    "channel_means = pd.read_csv('X_train_channel_means.csv').to_numpy()[:, 1].astype(int)\n",
    "channel_stds = pd.read_csv('X_train_channel_stds.csv').to_numpy()[:, 1]\n",
    "print(channel_means)\n",
    "print(channel_stds)"
   ]
  },
  {
   "cell_type": "code",
   "execution_count": 5,
   "metadata": {},
   "outputs": [],
   "source": [
    "mean_mat_0 = np.ones((128, 128)) * channel_means[0]\n",
    "mean_mat_1 = np.ones((128, 128)) * channel_means[1]\n",
    "mean_mat_2 = np.ones((128, 128)) * channel_means[2]\n",
    "\n",
    "std_mat_0 = np.ones((128, 128)) * channel_stds[0]\n",
    "std_mat_1 = np.ones((128, 128)) * channel_stds[1]\n",
    "std_mat_2 = np.ones((128, 128)) * channel_stds[2]"
   ]
  },
  {
   "cell_type": "code",
   "execution_count": 110,
   "metadata": {},
   "outputs": [
    {
     "name": "stdout",
     "output_type": "stream",
     "text": [
      "(16000, 3, 128, 128)\n"
     ]
    }
   ],
   "source": [
    "X_valid = pd.read_pickle(data_dir + \"valid_data.pkl\").to_numpy().astype(float)\n",
    "\n",
    "# Reshape X_valid to dimensions of original images\n",
    "X_valid = X_valid.reshape(-1, 3, 128, 128)\n",
    "\n",
    "print(X_valid.shape)\n",
    "n_valid = X_valid.shape[0]"
   ]
  },
  {
   "cell_type": "code",
   "execution_count": 112,
   "metadata": {},
   "outputs": [
    {
     "name": "stdout",
     "output_type": "stream",
     "text": [
      "0\n",
      "1000\n",
      "2000\n",
      "3000\n",
      "4000\n",
      "5000\n",
      "6000\n",
      "7000\n",
      "8000\n",
      "9000\n",
      "10000\n",
      "11000\n",
      "12000\n",
      "13000\n",
      "14000\n",
      "15000\n"
     ]
    }
   ],
   "source": [
    "# Normalize validation data\n",
    "# X_valid_0 = X_valid[:, 0, :, :]\n",
    "# X_valid_1 = X_valid[:, 1, :, :]\n",
    "# X_valid_2 = X_valid[:, 2, :, :]\n",
    "\n",
    "\n",
    "X_valid_norm = np.zeros_like(X_valid)\n",
    "\n",
    "for i in range(len(X_valid)):\n",
    "    if i % 1000 == 0: \n",
    "        print(i)\n",
    "    \n",
    "    X_valid_norm[i, 0, :, :] = ((X_valid[i, 0, :, :]-mean_mat_0)/std_mat_0)\n",
    "    X_valid_norm[i, 1, :, :] = ((X_valid[i, 1, :, :]-mean_mat_1)/std_mat_1)\n",
    "    X_valid_norm[i, 2, :, :] = ((X_valid[i, 2, :, :]-mean_mat_2)/std_mat_2)"
   ]
  },
  {
   "cell_type": "code",
   "execution_count": 113,
   "metadata": {},
   "outputs": [
    {
     "name": "stdout",
     "output_type": "stream",
     "text": [
      "(16000, 3, 128, 128)\n",
      "Channel 1 mean 0.002375959469322649\n",
      "Channel 1 var 0.9978911391007498\n",
      "Channel 2 mean 0.0023531594210381536\n",
      "Channel 2 var 0.9909649931247625\n",
      "Channel 3 mean 0.011823092898938417\n",
      "Channel 3 var 0.9961396257404609\n"
     ]
    }
   ],
   "source": [
    "# Confirm normalized data has channel mean near 0 and channel var near 1\n",
    "print(X_valid_norm.shape)\n",
    "print(\"Channel 1 mean\", np.mean(X_valid_norm[:, 0, :, :]))\n",
    "print(\"Channel 1 var\", np.var(X_valid_norm[:, 0, :, :]))\n",
    "print(\"Channel 2 mean\",np.mean(X_valid_norm[:, 1, :, :]))\n",
    "print(\"Channel 2 var\",np.var(X_valid_norm[:, 1, :, :]))\n",
    "print(\"Channel 3 mean\",np.mean(X_valid_norm[:, 2, :, :]))\n",
    "print(\"Channel 3 var\",np.var(X_valid_norm[:, 2, :, :]))"
   ]
  },
  {
   "cell_type": "code",
   "execution_count": 111,
   "metadata": {},
   "outputs": [],
   "source": [
    "# Write normalized data to new .pkl file\n",
    "X_valid_norm_df = pd.DataFrame(X_valid_norm.reshape(n_valid, -1))\n",
    "X_valid_norm_df.to_pickle(\"X_valid_norm.pkl\")"
   ]
  },
  {
   "cell_type": "code",
   "execution_count": 6,
   "metadata": {},
   "outputs": [
    {
     "ename": "NameError",
     "evalue": "name 'X_valid' is not defined",
     "output_type": "error",
     "traceback": [
      "\u001b[0;31m---------------------------------------------------------------------------\u001b[0m",
      "\u001b[0;31mNameError\u001b[0m                                 Traceback (most recent call last)",
      "\u001b[1;32m/Users/josephjamison/Documents/Joe_Documents/Stanford/CS231n/cs231n_final_project/data_preprocessing/transform_x_data.ipynb Cell 8\u001b[0m in \u001b[0;36m2\n\u001b[1;32m      <a href='vscode-notebook-cell:/Users/josephjamison/Documents/Joe_Documents/Stanford/CS231n/cs231n_final_project/data_preprocessing/transform_x_data.ipynb#X13sZmlsZQ%3D%3D?line=0'>1</a>\u001b[0m \u001b[39m# Clear memory\u001b[39;00m\n\u001b[0;32m----> <a href='vscode-notebook-cell:/Users/josephjamison/Documents/Joe_Documents/Stanford/CS231n/cs231n_final_project/data_preprocessing/transform_x_data.ipynb#X13sZmlsZQ%3D%3D?line=1'>2</a>\u001b[0m \u001b[39mdel\u001b[39;00m X_valid\n\u001b[1;32m      <a href='vscode-notebook-cell:/Users/josephjamison/Documents/Joe_Documents/Stanford/CS231n/cs231n_final_project/data_preprocessing/transform_x_data.ipynb#X13sZmlsZQ%3D%3D?line=2'>3</a>\u001b[0m \u001b[39mdel\u001b[39;00m X_valid_norm\n\u001b[1;32m      <a href='vscode-notebook-cell:/Users/josephjamison/Documents/Joe_Documents/Stanford/CS231n/cs231n_final_project/data_preprocessing/transform_x_data.ipynb#X13sZmlsZQ%3D%3D?line=3'>4</a>\u001b[0m \u001b[39mdel\u001b[39;00m X_valid_norm_df\n",
      "\u001b[0;31mNameError\u001b[0m: name 'X_valid' is not defined"
     ]
    }
   ],
   "source": [
    "# Clear memory\n",
    "del X_valid\n",
    "del X_valid_norm\n",
    "del X_valid_norm_df"
   ]
  },
  {
   "cell_type": "code",
   "execution_count": 11,
   "metadata": {},
   "outputs": [
    {
     "name": "stdout",
     "output_type": "stream",
     "text": [
      "(64000, 3, 128, 128)\n"
     ]
    }
   ],
   "source": [
    "# Read in X_train to normalize\n",
    "X_train = pd.read_pickle(data_dir + \"train_data.pkl\").to_numpy().astype(float)\n",
    "\n",
    "# Reshape X_train to dimensions of original images\n",
    "X_train = X_train.reshape(-1, 3, 128, 128)\n",
    "print(X_train.shape)\n",
    "n_train = X_train.shape[0]"
   ]
  },
  {
   "cell_type": "code",
   "execution_count": 12,
   "metadata": {},
   "outputs": [
    {
     "name": "stdout",
     "output_type": "stream",
     "text": [
      "(32000, 3, 128, 128)\n",
      "(32000, 3, 128, 128)\n"
     ]
    }
   ],
   "source": [
    "# Split X_train in 2 for memory management\n",
    "X_train_0 = X_train[:32000, :, :,:]\n",
    "X_train_1 = X_train[32000:, :, :,:]\n",
    "print(X_train_0.shape)\n",
    "print(X_train_1.shape)\n",
    "X_train_norm = np.zeros_like(X_train)\n",
    "\n",
    "del X_train"
   ]
  },
  {
   "cell_type": "code",
   "execution_count": 13,
   "metadata": {},
   "outputs": [
    {
     "name": "stdout",
     "output_type": "stream",
     "text": [
      "0\n",
      "1000\n",
      "2000\n",
      "3000\n",
      "4000\n",
      "5000\n",
      "6000\n",
      "7000\n",
      "8000\n",
      "9000\n",
      "10000\n",
      "11000\n",
      "12000\n",
      "13000\n",
      "14000\n",
      "15000\n",
      "16000\n",
      "17000\n",
      "18000\n",
      "19000\n",
      "20000\n",
      "21000\n",
      "22000\n",
      "23000\n",
      "24000\n",
      "25000\n",
      "26000\n",
      "27000\n",
      "28000\n",
      "29000\n",
      "30000\n",
      "31000\n"
     ]
    }
   ],
   "source": [
    "for i in range(len(X_train_0)):\n",
    "    if i % 1000 == 0: \n",
    "        print(i)\n",
    "    \n",
    "    X_train_norm[i, 0, :, :] = ((X_train_0[i, 0, :, :]-mean_mat_0)/std_mat_0)\n",
    "    X_train_norm[i, 1, :, :] = ((X_train_0[i, 1, :, :]-mean_mat_1)/std_mat_1)\n",
    "    X_train_norm[i, 2, :, :] = ((X_train_0[i, 2, :, :]-mean_mat_2)/std_mat_2)\n",
    "\n",
    "del X_train_0"
   ]
  },
  {
   "cell_type": "code",
   "execution_count": 15,
   "metadata": {},
   "outputs": [
    {
     "name": "stdout",
     "output_type": "stream",
     "text": [
      "0\n",
      "1000\n",
      "2000\n",
      "3000\n",
      "4000\n",
      "5000\n",
      "6000\n",
      "7000\n",
      "8000\n",
      "9000\n",
      "10000\n",
      "11000\n",
      "12000\n",
      "13000\n",
      "14000\n",
      "15000\n",
      "16000\n",
      "17000\n",
      "18000\n",
      "19000\n",
      "20000\n",
      "21000\n",
      "22000\n",
      "23000\n",
      "24000\n",
      "25000\n",
      "26000\n",
      "27000\n",
      "28000\n",
      "29000\n",
      "30000\n",
      "31000\n"
     ]
    }
   ],
   "source": [
    "for i in range(len(X_train_1)):\n",
    "    if i % 1000 == 0: \n",
    "        print(i)\n",
    "    \n",
    "    X_train_norm[i+32000, 0, :, :] = ((X_train_1[i, 0, :, :]-mean_mat_0)/std_mat_0)\n",
    "    X_train_norm[i+32000, 1, :, :] = ((X_train_1[i, 1, :, :]-mean_mat_1)/std_mat_1)\n",
    "    X_train_norm[i+32000, 2, :, :] = ((X_train_1[i, 2, :, :]-mean_mat_2)/std_mat_2)\n",
    "\n",
    "del X_train_1"
   ]
  },
  {
   "cell_type": "code",
   "execution_count": 16,
   "metadata": {},
   "outputs": [
    {
     "name": "stdout",
     "output_type": "stream",
     "text": [
      "(64000, 3, 128, 128)\n",
      "Channel 1 mean 0.00502868400604361\n",
      "Channel 1 var 1.0009566455727226\n",
      "Channel 2 mean 0.002032697690912938\n",
      "Channel 2 var 0.9996526483221272\n",
      "Channel 3 mean 0.007121260125454123\n",
      "Channel 3 var 1.000061565508712\n"
     ]
    }
   ],
   "source": [
    "# Confirm normalized data has channel mean near 0 and channel var near 1\n",
    "print(X_train_norm.shape)\n",
    "print(\"Channel 1 mean\", np.mean(X_train_norm[:20000, 0, :, :]))\n",
    "print(\"Channel 1 var\", np.var(X_train_norm[:20000, 0, :, :]))\n",
    "print(\"Channel 2 mean\",np.mean(X_train_norm[:20000, 1, :, :]))\n",
    "print(\"Channel 2 var\",np.var(X_train_norm[:20000, 1, :, :]))\n",
    "print(\"Channel 3 mean\",np.mean(X_train_norm[:20000, 2, :, :]))\n",
    "print(\"Channel 3 var\",np.var(X_train_norm[:20000, 2, :, :]))"
   ]
  },
  {
   "cell_type": "code",
   "execution_count": 17,
   "metadata": {},
   "outputs": [],
   "source": [
    "# Write normalized data to new .pkl file\n",
    "X_train_norm_df = pd.DataFrame(X_train_norm.reshape(n_train, -1))\n",
    "X_train_norm_df.to_pickle(\"X_train_norm.pkl\")"
   ]
  },
  {
   "cell_type": "code",
   "execution_count": 18,
   "metadata": {},
   "outputs": [],
   "source": [
    "# Clear memory\n",
    "del X_train_norm\n",
    "del X_train_norm_df"
   ]
  },
  {
   "cell_type": "code",
   "execution_count": 19,
   "metadata": {},
   "outputs": [
    {
     "name": "stdout",
     "output_type": "stream",
     "text": [
      "(20000, 3, 128, 128)\n"
     ]
    }
   ],
   "source": [
    "#Read in test data to normalize\n",
    "X_test = pd.read_pickle(data_dir + \"test_data.pkl\").to_numpy().astype(float)\n",
    "\n",
    "# Reshape X_valid to dimensions of original images\n",
    "X_test = X_test.reshape(-1, 3, 128, 128)\n",
    "\n",
    "print(X_test.shape)\n",
    "n_test = X_test.shape[0]"
   ]
  },
  {
   "cell_type": "code",
   "execution_count": 20,
   "metadata": {},
   "outputs": [
    {
     "name": "stdout",
     "output_type": "stream",
     "text": [
      "0\n",
      "1000\n",
      "2000\n",
      "3000\n",
      "4000\n",
      "5000\n",
      "6000\n",
      "7000\n",
      "8000\n",
      "9000\n",
      "10000\n",
      "11000\n",
      "12000\n",
      "13000\n",
      "14000\n",
      "15000\n",
      "16000\n",
      "17000\n",
      "18000\n",
      "19000\n"
     ]
    }
   ],
   "source": [
    "# Normalize Test data\n",
    "X_test_norm = np.zeros_like(X_test)\n",
    "\n",
    "for i in range(len(X_test)):\n",
    "    if i % 1000 == 0: \n",
    "        print(i)\n",
    "    \n",
    "    X_test_norm[i, 0, :, :] = ((X_test[i, 0, :, :]-mean_mat_0)/std_mat_0)\n",
    "    X_test_norm[i, 1, :, :] = ((X_test[i, 1, :, :]-mean_mat_1)/std_mat_1)\n",
    "    X_test_norm[i, 2, :, :] = ((X_test[i, 2, :, :]-mean_mat_2)/std_mat_2)"
   ]
  },
  {
   "cell_type": "code",
   "execution_count": 21,
   "metadata": {},
   "outputs": [
    {
     "name": "stdout",
     "output_type": "stream",
     "text": [
      "(20000, 3, 128, 128)\n",
      "Channel 1 mean 0.001990949527088481\n",
      "Channel 1 var 1.0012507094505723\n",
      "Channel 2 mean 0.003644231337722189\n",
      "Channel 2 var 0.997488891776444\n",
      "Channel 3 mean 0.01472184398755862\n",
      "Channel 3 var 0.9964330277302157\n"
     ]
    }
   ],
   "source": [
    "# Confirm normalized data has channel mean near 0 and channel var near 1\n",
    "print(X_test_norm.shape)\n",
    "print(\"Channel 1 mean\", np.mean(X_test_norm[:, 0, :, :]))\n",
    "print(\"Channel 1 var\", np.var(X_test_norm[:, 0, :, :]))\n",
    "print(\"Channel 2 mean\",np.mean(X_test_norm[:, 1, :, :]))\n",
    "print(\"Channel 2 var\",np.var(X_test_norm[:, 1, :, :]))\n",
    "print(\"Channel 3 mean\",np.mean(X_test_norm[:, 2, :, :]))\n",
    "print(\"Channel 3 var\",np.var(X_test_norm[:, 2, :, :]))"
   ]
  },
  {
   "cell_type": "code",
   "execution_count": 23,
   "metadata": {},
   "outputs": [],
   "source": [
    "# Write normalized data to new .pkl file\n",
    "X_test_norm_df = pd.DataFrame(X_test_norm.reshape(n_test, -1))\n",
    "X_test_norm_df.to_pickle(\"X_test_norm.pkl\")"
   ]
  },
  {
   "cell_type": "code",
   "execution_count": null,
   "metadata": {},
   "outputs": [],
   "source": []
  }
 ],
 "metadata": {
  "kernelspec": {
   "display_name": "Python 3",
   "language": "python",
   "name": "python3"
  },
  "language_info": {
   "codemirror_mode": {
    "name": "ipython",
    "version": 3
   },
   "file_extension": ".py",
   "mimetype": "text/x-python",
   "name": "python",
   "nbconvert_exporter": "python",
   "pygments_lexer": "ipython3",
   "version": "3.10.7"
  },
  "orig_nbformat": 4
 },
 "nbformat": 4,
 "nbformat_minor": 2
}
