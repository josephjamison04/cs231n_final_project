{
 "cells": [
  {
   "cell_type": "code",
   "execution_count": 2,
   "metadata": {},
   "outputs": [],
   "source": [
    "import numpy as np\n",
    "import pandas as pd"
   ]
  },
  {
   "cell_type": "code",
   "execution_count": 4,
   "metadata": {},
   "outputs": [],
   "source": [
    "data_dir = '/home/ubuntu/CS231N/data/split-datasets/'\n",
    "\n",
    "X_train = pd.read_pickle(data_dir + \"train_data.pkl\").to_numpy()"
   ]
  },
  {
   "cell_type": "code",
   "execution_count": 26,
   "metadata": {},
   "outputs": [],
   "source": [
    "# Reshape X_train to dimensions of original images\n",
    "X_train = X_train.reshape(-1, 3, 128, 128)\n",
    "\n",
    "X_train_0 = X_train[:, 0, :, :]\n",
    "X_train_1 = X_train[:, 1, :, :]\n",
    "X_train_2 = X_train[:, 2, :, :]"
   ]
  },
  {
   "cell_type": "code",
   "execution_count": 27,
   "metadata": {},
   "outputs": [
    {
     "name": "stdout",
     "output_type": "stream",
     "text": [
      "(64000, 128, 128)\n"
     ]
    }
   ],
   "source": [
    "print(X_train_0.shape)"
   ]
  },
  {
   "cell_type": "code",
   "execution_count": 41,
   "metadata": {},
   "outputs": [],
   "source": [
    "# Calculate the mean and std of a dataset in a memory efficient way\n",
    "def mem_efficient_mean(data):\n",
    "    sum = 0\n",
    "\n",
    "    for i in range(data.shape[0]):\n",
    "        # if i % 10000 == 0:\n",
    "        #         print(i)\n",
    "        sum += np.sum(data[i, :, :])\n",
    "    \n",
    "    mean = sum / (data.shape[0]* data.shape[1] * data.shape[2])\n",
    "    return mean"
   ]
  },
  {
   "cell_type": "code",
   "execution_count": 44,
   "metadata": {},
   "outputs": [],
   "source": [
    "def mem_efficient_std(data, mu):\n",
    "    sse = 0\n",
    "\n",
    "    for i in range(data.shape[0]):\n",
    "        # if i % 10000 == 0:\n",
    "        #         print(i)\n",
    "        sse += np.sum((data[i, :, :] - mu)**2)\n",
    "    \n",
    "    var = sse / (data.shape[0]* data.shape[1] * data.shape[2])\n",
    "\n",
    "    return np.sqrt(var)"
   ]
  },
  {
   "cell_type": "code",
   "execution_count": 45,
   "metadata": {},
   "outputs": [
    {
     "name": "stdout",
     "output_type": "stream",
     "text": [
      "mean_0 103.20615017604828\n",
      "mean_1 111.2633871603012\n",
      "mean_2 115.82018423938752\n"
     ]
    }
   ],
   "source": [
    "# print(\"Calculating mean for channel 0\")\n",
    "mean_0 = mem_efficient_mean(X_train_0)\n",
    "# print(\"Calculating mean for channel 1\")\n",
    "mean_1 = mem_efficient_mean(X_train_1)\n",
    "# print(\"Calculating mean for channel 2\")\n",
    "mean_2 = mem_efficient_mean(X_train_2)\n",
    "\n",
    "# print(\"mean_0\", mean_0)\n",
    "# print(\"mean_1\", mean_1)\n",
    "# print(\"mean_2\", mean_2)"
   ]
  },
  {
   "cell_type": "code",
   "execution_count": 46,
   "metadata": {},
   "outputs": [
    {
     "name": "stdout",
     "output_type": "stream",
     "text": [
      "std_0 71.08110246072079\n",
      "std_1 66.65810962849511\n",
      "std_2 67.36857566774157\n"
     ]
    }
   ],
   "source": [
    "# print(\"Calculating mean for channel 0\")\n",
    "std_0 = mem_efficient_std(X_train_0, mean_0)\n",
    "# print(\"Calculating mean for channel 1\")\n",
    "std_1 = mem_efficient_std(X_train_1, mean_1)\n",
    "# print(\"Calculating mean for channel 2\")\n",
    "std_2 = mem_efficient_std(X_train_2, mean_2)\n",
    "\n",
    "# print(\"std_0\", std_0)\n",
    "# print(\"std_1\", std_1)\n",
    "# print(\"std_2\", std_2)"
   ]
  },
  {
   "cell_type": "code",
   "execution_count": 50,
   "metadata": {},
   "outputs": [
    {
     "name": "stdout",
     "output_type": "stream",
     "text": [
      "[103.20615017604828, 111.2633871603012, 115.82018423938752]\n",
      "[71.08110246072079, 66.65810962849511, 67.36857566774157]\n"
     ]
    }
   ],
   "source": [
    "mus = [mean_0, mean_1, mean_2]\n",
    "stds = [std_0, std_1, std_2]\n",
    "print(mus)\n",
    "print(stds)"
   ]
  },
  {
   "cell_type": "code",
   "execution_count": 51,
   "metadata": {},
   "outputs": [],
   "source": [
    "# Convert channel statistics to dataframes and write to .csv files\n",
    "data_mu_pd = pd.DataFrame(mus)\n",
    "data_std_pd = pd.DataFrame(stds)\n",
    "\n",
    "data_mu_pd.to_csv(\"X_train_channel_means.csv\")\n",
    "data_std_pd.to_csv(\"X_train_channel_stds.csv\")"
   ]
  }
 ],
 "metadata": {
  "kernelspec": {
   "display_name": "Python 3.10.7 64-bit",
   "language": "python",
   "name": "python3"
  },
  "language_info": {
   "codemirror_mode": {
    "name": "ipython",
    "version": 3
   },
   "file_extension": ".py",
   "mimetype": "text/x-python",
   "name": "python",
   "nbconvert_exporter": "python",
   "pygments_lexer": "ipython3",
   "version": "3.10.10"
  },
  "orig_nbformat": 4,
  "vscode": {
   "interpreter": {
    "hash": "aee8b7b246df8f9039afb4144a1f6fd8d2ca17a180786b69acc140d282b71a49"
   }
  }
 },
 "nbformat": 4,
 "nbformat_minor": 2
}
