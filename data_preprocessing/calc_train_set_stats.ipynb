{
 "cells": [
  {
   "cell_type": "code",
   "execution_count": 1,
   "metadata": {},
   "outputs": [],
   "source": [
    "import numpy as np\n",
    "import pandas as pd"
   ]
  },
  {
   "cell_type": "code",
   "execution_count": 2,
   "metadata": {},
   "outputs": [
    {
     "ename": "KeyboardInterrupt",
     "evalue": "",
     "output_type": "error",
     "traceback": [
      "\u001b[0;31m---------------------------------------------------------------------------\u001b[0m",
      "\u001b[0;31mKeyboardInterrupt\u001b[0m                         Traceback (most recent call last)",
      "Cell \u001b[0;32mIn[2], line 3\u001b[0m\n\u001b[1;32m      1\u001b[0m data_dir \u001b[39m=\u001b[39m \u001b[39m'\u001b[39m\u001b[39m/home/ubuntu/CS231N/data/split_datasets/\u001b[39m\u001b[39m'\u001b[39m\n\u001b[0;32m----> 3\u001b[0m X_train \u001b[39m=\u001b[39m pd\u001b[39m.\u001b[39;49mread_pickle(data_dir \u001b[39m+\u001b[39;49m \u001b[39m\"\u001b[39;49m\u001b[39mtrain_data.pkl\u001b[39;49m\u001b[39m\"\u001b[39;49m)\u001b[39m.\u001b[39mto_numpy()\n",
      "File \u001b[0;32m~/miniconda3/lib/python3.9/site-packages/pandas/io/pickle.py:196\u001b[0m, in \u001b[0;36mread_pickle\u001b[0;34m(filepath_or_buffer, compression, storage_options)\u001b[0m\n\u001b[1;32m    193\u001b[0m     \u001b[39mwith\u001b[39;00m warnings\u001b[39m.\u001b[39mcatch_warnings(record\u001b[39m=\u001b[39m\u001b[39mTrue\u001b[39;00m):\n\u001b[1;32m    194\u001b[0m         \u001b[39m# We want to silence any warnings about, e.g. moved modules.\u001b[39;00m\n\u001b[1;32m    195\u001b[0m         warnings\u001b[39m.\u001b[39msimplefilter(\u001b[39m\"\u001b[39m\u001b[39mignore\u001b[39m\u001b[39m\"\u001b[39m, \u001b[39mWarning\u001b[39;00m)\n\u001b[0;32m--> 196\u001b[0m         \u001b[39mreturn\u001b[39;00m pickle\u001b[39m.\u001b[39;49mload(handles\u001b[39m.\u001b[39;49mhandle)\n\u001b[1;32m    197\u001b[0m \u001b[39mexcept\u001b[39;00m excs_to_catch:\n\u001b[1;32m    198\u001b[0m     \u001b[39m# e.g.\u001b[39;00m\n\u001b[1;32m    199\u001b[0m     \u001b[39m#  \"No module named 'pandas.core.sparse.series'\"\u001b[39;00m\n\u001b[1;32m    200\u001b[0m     \u001b[39m#  \"Can't get attribute '__nat_unpickle' on <module 'pandas._libs.tslib\"\u001b[39;00m\n\u001b[1;32m    201\u001b[0m     \u001b[39mreturn\u001b[39;00m pc\u001b[39m.\u001b[39mload(handles\u001b[39m.\u001b[39mhandle, encoding\u001b[39m=\u001b[39m\u001b[39mNone\u001b[39;00m)\n",
      "File \u001b[0;32m~/miniconda3/lib/python3.9/site-packages/numpy/core/numeric.py:1874\u001b[0m, in \u001b[0;36m_frombuffer\u001b[0;34m(buf, dtype, shape, order)\u001b[0m\n\u001b[1;32m   1866\u001b[0m     \u001b[39mreturn\u001b[39;00m function(\u001b[39m*\u001b[39margs, \u001b[39m*\u001b[39m\u001b[39m*\u001b[39mkwargs)\n\u001b[1;32m   1869\u001b[0m _fromfunction_with_like \u001b[39m=\u001b[39m array_function_dispatch(\n\u001b[1;32m   1870\u001b[0m     _fromfunction_dispatcher, use_like\u001b[39m=\u001b[39m\u001b[39mTrue\u001b[39;00m\n\u001b[1;32m   1871\u001b[0m )(fromfunction)\n\u001b[0;32m-> 1874\u001b[0m \u001b[39mdef\u001b[39;00m \u001b[39m_frombuffer\u001b[39m(buf, dtype, shape, order):\n\u001b[1;32m   1875\u001b[0m     \u001b[39mreturn\u001b[39;00m frombuffer(buf, dtype\u001b[39m=\u001b[39mdtype)\u001b[39m.\u001b[39mreshape(shape, order\u001b[39m=\u001b[39morder)\n\u001b[1;32m   1878\u001b[0m \u001b[39m@set_module\u001b[39m(\u001b[39m'\u001b[39m\u001b[39mnumpy\u001b[39m\u001b[39m'\u001b[39m)\n\u001b[1;32m   1879\u001b[0m \u001b[39mdef\u001b[39;00m \u001b[39misscalar\u001b[39m(element):\n",
      "\u001b[0;31mKeyboardInterrupt\u001b[0m: "
     ]
    }
   ],
   "source": [
    "data_dir = '/home/ubuntu/CS231N/data/split_datasets/'\n",
    "\n",
    "X_train = pd.read_pickle(data_dir + \"train_data.pkl\").to_numpy()"
   ]
  },
  {
   "cell_type": "code",
   "execution_count": 3,
   "metadata": {},
   "outputs": [],
   "source": [
    "# Reshape X_train to dimensions of original images\n",
    "X_train = X_train.reshape(-1, 3, 128, 128)\n",
    "\n",
    "X_train_0 = X_train[:, 0, :, :]\n",
    "X_train_1 = X_train[:, 1, :, :]\n",
    "X_train_2 = X_train[:, 2, :, :]"
   ]
  },
  {
   "cell_type": "code",
   "execution_count": 4,
   "metadata": {},
   "outputs": [
    {
     "ename": "",
     "evalue": "",
     "output_type": "error",
     "traceback": [
      "\u001b[1;31mCanceled future for execute_request message before replies were done"
     ]
    },
    {
     "ename": "",
     "evalue": "",
     "output_type": "error",
     "traceback": [
      "\u001b[1;31mThe Kernel crashed while executing code in the the current cell or a previous cell. Please review the code in the cell(s) to identify a possible cause of the failure. Click <a href='https://aka.ms/vscodeJupyterKernelCrash'>here</a> for more info. View Jupyter <a href='command:jupyter.viewOutput'>log</a> for further details."
     ]
    }
   ],
   "source": [
    "# Calculate channel mean and std for transformation of dataset\n",
    "data_mu_0 = np.mean(X_train_0)\n",
    "data_std_0 = np.std(X_train_0)"
   ]
  },
  {
   "cell_type": "code",
   "execution_count": null,
   "metadata": {},
   "outputs": [],
   "source": [
    "print(data_mu.shape)\n",
    "print(data_std.shape)"
   ]
  },
  {
   "cell_type": "code",
   "execution_count": null,
   "metadata": {},
   "outputs": [],
   "source": [
    "# Convert channel statistics to dataframes and write to .csv files\n",
    "data_mu_pd = pd.DataFrame(data_mu)\n",
    "data_std_pd = pd.DataFrame(data_std)\n",
    "\n",
    "data_mu_pd.to_csv(\"X_train_channel_means.csv\")\n",
    "data_mu_pd.to_csv(\"X_train_channel_stds.csv\")"
   ]
  }
 ],
 "metadata": {
  "kernelspec": {
   "display_name": "Python 3.10.7 64-bit",
   "language": "python",
   "name": "python3"
  },
  "language_info": {
   "codemirror_mode": {
    "name": "ipython",
    "version": 3
   },
   "file_extension": ".py",
   "mimetype": "text/x-python",
   "name": "python",
   "nbconvert_exporter": "python",
   "pygments_lexer": "ipython3",
   "version": "3.9.16"
  },
  "orig_nbformat": 4,
  "vscode": {
   "interpreter": {
    "hash": "aee8b7b246df8f9039afb4144a1f6fd8d2ca17a180786b69acc140d282b71a49"
   }
  }
 },
 "nbformat": 4,
 "nbformat_minor": 2
}
