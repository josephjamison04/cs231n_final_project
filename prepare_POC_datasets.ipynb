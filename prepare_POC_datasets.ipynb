{
 "cells": [
  {
   "cell_type": "code",
   "execution_count": 1,
   "metadata": {},
   "outputs": [],
   "source": [
    "import cv2\n",
    "import numpy as np\n",
    "import os\n",
    "import pandas as pd"
   ]
  },
  {
   "cell_type": "code",
   "execution_count": 2,
   "metadata": {},
   "outputs": [],
   "source": [
    "# Read in small_data labels and data \n",
    "small_images_all_data = pd.read_pickle(\"/Users/josephjamison/Downloads/small_images_all_data.pkl\")\n",
    "small_images_labels = pd.read_pickle(\"small_images_labels.pkl\")"
   ]
  },
  {
   "cell_type": "code",
   "execution_count": 3,
   "metadata": {},
   "outputs": [],
   "source": [
    "small_images_labels.columns = ['label']"
   ]
  },
  {
   "cell_type": "code",
   "execution_count": 138,
   "metadata": {},
   "outputs": [
    {
     "name": "stdout",
     "output_type": "stream",
     "text": [
      "['skyscraper', 'bathroom', 'dining_room', 'airport_terminal', 'highway']\n",
      "(4000, 1)\n",
      "(4000, 49152)\n"
     ]
    }
   ],
   "source": [
    "# Select 5 labels that have 800 examples in large photo bank,then extract only \n",
    "# data rows with these labels for POC dataset\n",
    "np.random.seed(42)\n",
    "\n",
    "labels = small_images_labels.to_numpy()\n",
    "POC_labels_choice = ['skyscraper', 'bathroom', 'dining_room', 'airport_terminal', 'highway']\n",
    "# set(np.random.choice(np.unique(labels).squeeze(), 3))\n",
    "print(POC_labels_choice)\n",
    "\n",
    "keep_idx = small_images_labels['label'].isin(POC_labels_choice)\n",
    "# Drop 200 images from each class to match number of examples of large images \n",
    "for i in range(keep_idx.shape[0]):\n",
    "    if i % 1000 >= 800:\n",
    "        keep_idx.iloc[i] = False \n",
    "\n",
    "POC_small_labels = small_images_labels.loc[keep_idx == True]\n",
    "POC_small_data = small_images_all_data.loc[keep_idx == True]\n",
    "\n",
    "print(POC_small_labels.shape)\n",
    "print(POC_small_data.shape)"
   ]
  },
  {
   "cell_type": "code",
   "execution_count": 139,
   "metadata": {},
   "outputs": [],
   "source": [
    "# Write POC small_data datasets to .pkl\n",
    "POC_small_labels.to_pickle('5k_POC_small_labels.pkl')\n",
    "POC_small_data.to_pickle('5k_POC_small_data.pkl')"
   ]
  },
  {
   "cell_type": "code",
   "execution_count": 140,
   "metadata": {},
   "outputs": [
    {
     "name": "stderr",
     "output_type": "stream",
     "text": [
      "libpng warning: iCCP: known incorrect sRGB profile\n"
     ]
    },
    {
     "name": "stdout",
     "output_type": "stream",
     "text": [
      "['airport_terminal' 'bathroom' 'dining_room' 'highway' 'skyscraper']\n",
      "(4000, 3, 256, 256)\n",
      "(4000,)\n"
     ]
    }
   ],
   "source": [
    "# Retrieve 1000 large images for each label in POC_labels_choice\n",
    "\n",
    "path = '/Users/josephjamison/Downloads/SUN397/'\n",
    "\n",
    "images = []\n",
    "labels = []\n",
    "\n",
    "for label in POC_labels_choice:\n",
    "    counter = 0\n",
    "    first_letter = label[0]    \n",
    "    dir_list = [i for i in os.listdir(os.path.join(path, first_letter, label)) if not i.startswith('.')]\n",
    "    for file in dir_list:\n",
    "        if counter < 800:\n",
    "            try:\n",
    "                # Read in image, re-size to 256 x 256, then transpose to (C, H, W)\n",
    "                im = cv2.imread(os.path.join(path, first_letter, label, file))\n",
    "                resized_im = cv2.resize(im, (256, 256), interpolation= cv2.INTER_LINEAR).transpose((2, 0, 1))\n",
    "                images.append(resized_im)\n",
    "                labels.append(label)\n",
    "                counter += 1\n",
    "            except:\n",
    "                pass\n",
    "\n",
    "images = np.array(images)\n",
    "labels = np.array(labels)\n",
    "print(np.unique(labels))\n",
    "print(images.shape)\n",
    "print(labels.shape)\n",
    "                "
   ]
  },
  {
   "cell_type": "code",
   "execution_count": 147,
   "metadata": {},
   "outputs": [],
   "source": [
    "POC_large_labels = pd.DataFrame(labels)\n",
    "POC_large_labels.columns = ['label']\n",
    "\n",
    "N = images.shape[0]\n",
    "POC_large_data = pd.DataFrame(images.reshape(N, -1))\n",
    "\n",
    "# print(POC_large_labels['label'].value_counts()['bathroom'])\n",
    "# print(POC_large_data.shape)"
   ]
  },
  {
   "cell_type": "code",
   "execution_count": 148,
   "metadata": {},
   "outputs": [],
   "source": [
    "# Write POC large_data datasets to .pkl\n",
    "POC_large_labels.to_pickle('5k_POC_large_labels.pkl')\n",
    "POC_large_data.to_pickle('5k_POC_large_data.pkl')"
   ]
  },
  {
   "cell_type": "code",
   "execution_count": null,
   "metadata": {},
   "outputs": [],
   "source": []
  }
 ],
 "metadata": {
  "kernelspec": {
   "display_name": "Python 3.10.7 64-bit",
   "language": "python",
   "name": "python3"
  },
  "language_info": {
   "codemirror_mode": {
    "name": "ipython",
    "version": 3
   },
   "file_extension": ".py",
   "mimetype": "text/x-python",
   "name": "python",
   "nbconvert_exporter": "python",
   "pygments_lexer": "ipython3",
   "version": "3.10.7"
  },
  "orig_nbformat": 4,
  "vscode": {
   "interpreter": {
    "hash": "aee8b7b246df8f9039afb4144a1f6fd8d2ca17a180786b69acc140d282b71a49"
   }
  }
 },
 "nbformat": 4,
 "nbformat_minor": 2
}
