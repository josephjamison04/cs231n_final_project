{
 "cells": [
  {
   "cell_type": "code",
   "execution_count": 1,
   "metadata": {},
   "outputs": [],
   "source": [
    "import numpy as np\n",
    "import pandas as pd\n",
    "from sklearn.model_selection import train_test_split\n",
    "\n",
    "import torch\n",
    "import torch.nn as nn\n",
    "import torch.nn.functional as F\n",
    "import torch.optim as optim\n",
    "from torch.utils.data import TensorDataset, DataLoader\n",
    "from torch.utils.data import sampler\n",
    "\n",
    "import torchvision.transforms as T"
   ]
  },
  {
   "cell_type": "code",
   "execution_count": 18,
   "metadata": {},
   "outputs": [],
   "source": [
    "USE_GPU = True\n",
    "dtype = torch.float32\n",
    "\n",
    "if USE_GPU and torch.cuda.is_available():\n",
    "    device = torch.device('cuda')\n",
    "else:\n",
    "    device = torch.device('cpu')"
   ]
  },
  {
   "cell_type": "code",
   "execution_count": 19,
   "metadata": {},
   "outputs": [],
   "source": [
    "# Read in POC data\n",
    "small_data = pd.read_pickle(\"/Users/josephjamison/Downloads/CS231n_temp/4k_POC_small_data.pkl\")\n",
    "small_labels = pd.read_pickle(\"4k_POC_small_labels.pkl\")\n",
    "large_data = pd.read_pickle(\"/Users/josephjamison/Downloads/CS231n_temp/4k_POC_large_data.pkl\")\n",
    "large_labels = pd.read_pickle(\"4k_POC_large_labels.pkl\")"
   ]
  },
  {
   "cell_type": "code",
   "execution_count": 20,
   "metadata": {},
   "outputs": [
    {
     "name": "stdout",
     "output_type": "stream",
     "text": [
      "(4000, 3, 128, 128)\n",
      "(4000, 1)\n",
      "(4000, 3, 256, 256)\n",
      "(4000, 1)\n"
     ]
    }
   ],
   "source": [
    "# Re-size POC data and store as np arrays\n",
    "small_dim = 128\n",
    "large_dim = 256\n",
    "small_data = small_data.to_numpy().reshape(-1, 3, small_dim, small_dim)\n",
    "small_labels = small_labels.to_numpy()\n",
    "large_data = large_data.to_numpy().reshape(-1, 3, large_dim, large_dim)\n",
    "large_labels = large_labels.to_numpy()\n",
    "\n",
    "print(small_data.shape)\n",
    "print(small_labels.shape)\n",
    "print(large_data.shape)\n",
    "print(large_labels.shape)"
   ]
  },
  {
   "cell_type": "code",
   "execution_count": 21,
   "metadata": {},
   "outputs": [
    {
     "name": "stdout",
     "output_type": "stream",
     "text": [
      "{'airport_terminal': 0, 'bathroom': 1, 'dining_room': 2, 'highway': 3, 'skyscraper': 4}\n"
     ]
    }
   ],
   "source": [
    "label_dict = {}\n",
    "counter = 0\n",
    "for i in np.unique(small_labels):\n",
    "    label_dict[i] = counter\n",
    "    counter += 1\n",
    "\n",
    "print(label_dict)"
   ]
  },
  {
   "cell_type": "code",
   "execution_count": 22,
   "metadata": {},
   "outputs": [],
   "source": [
    "# Convert labels from strings to ints\n",
    "for i,j in label_dict.items():\n",
    "    small_labels[small_labels==i] = j\n",
    "    large_labels[large_labels==i] = j\n",
    "\n",
    "small_labels = small_labels.astype(int).squeeze()\n",
    "large_labels = large_labels.astype(int).squeeze()"
   ]
  },
  {
   "cell_type": "code",
   "execution_count": 23,
   "metadata": {},
   "outputs": [],
   "source": [
    "small_X_train, small_X_val, small_y_train, small_y_val = train_test_split(small_data, small_labels, test_size=0.1, random_state=42)\n",
    "large_X_train, large_X_val, large_y_train, large_y_val = train_test_split(large_data, large_labels, test_size=0.1, random_state=42)"
   ]
  },
  {
   "cell_type": "code",
   "execution_count": 24,
   "metadata": {},
   "outputs": [],
   "source": [
    "# Calculate channel mean and std for transformation of dataset\n",
    "small_mean = np.mean(small_X_train, axis = (0, 2, 3))\n",
    "small_std = np.std(small_X_train, axis = (0, 2, 3))\n",
    "large_mean = np.mean(large_X_train, axis = (0, 2, 3))\n",
    "large_std = np.std(large_X_train, axis = (0, 2, 3))"
   ]
  },
  {
   "cell_type": "code",
   "execution_count": 25,
   "metadata": {},
   "outputs": [],
   "source": [
    "small_transform = T.Normalize(small_mean, small_std)\n",
    "large_transform = T.Normalize(large_mean, large_std)\n",
    "\n",
    "small_X_train = small_transform.forward(torch.Tensor(small_X_train))\n",
    "small_X_val = small_transform.forward(torch.Tensor(small_X_val))\n",
    "small_y_train = torch.Tensor(small_y_train)\n",
    "small_y_val = torch.Tensor(small_y_val)\n",
    "\n",
    "large_X_train = large_transform.forward(torch.Tensor(large_X_train))\n",
    "large_X_val = large_transform.forward(torch.Tensor(large_X_val))\n",
    "large_y_train = torch.Tensor(large_y_train)\n",
    "large_y_val = torch.Tensor(large_y_val)"
   ]
  },
  {
   "cell_type": "code",
   "execution_count": 36,
   "metadata": {},
   "outputs": [],
   "source": [
    "# We set up a Dataset object for each split (train / val / test); Datasets load\n",
    "# training examples one at a time, so we wrap each Dataset in a DataLoader which\n",
    "# iterates through the Dataset and forms minibatches.\n",
    "\n",
    "SMALL_DATA = False\n",
    "\n",
    "# cifar10_train = dset.CIFAR10('./cs231n/datasets', train=True, download=True,\n",
    "#                              transform=transform)\n",
    "if SMALL_DATA:\n",
    "    train_dataset = TensorDataset(small_X_train, small_y_train)\n",
    "    val_dataset = TensorDataset(small_X_val, small_y_val)\n",
    "else:\n",
    "    train_dataset = TensorDataset(large_X_train, large_y_train)\n",
    "    val_dataset = TensorDataset(large_X_val, large_y_val)\n",
    "\n",
    "loader_train = DataLoader(train_dataset, batch_size=64)\n",
    "\n",
    "# cifar10_val = dset.CIFAR10('./cs231n/datasets', train=True, download=True,\n",
    "#                            transform=transform)\n",
    "loader_val = DataLoader(val_dataset, batch_size=64)\n",
    "\n",
    "# cifar10_test = dset.CIFAR10('./cs231n/datasets', train=False, download=True, \n",
    "#                             transform=transform)\n",
    "# loader_test = DataLoader(cifar10_test, batch_size=64)"
   ]
  },
  {
   "cell_type": "code",
   "execution_count": 37,
   "metadata": {},
   "outputs": [],
   "source": [
    "def flatten(x):\n",
    "    N = x.shape[0] # read in N, C, H, W\n",
    "    return x.view(N, -1)  # \"flatten\" the C * H * W values into a single vector per image\n",
    "    \n",
    "# We need to wrap `flatten` function in a module in order to stack it\n",
    "# in nn.Sequential\n",
    "class Flatten(nn.Module):\n",
    "    def forward(self, x):\n",
    "        return flatten(x)"
   ]
  },
  {
   "cell_type": "code",
   "execution_count": 38,
   "metadata": {},
   "outputs": [],
   "source": [
    "def check_accuracy(loader, model):\n",
    "    \n",
    "    print('Checking accuracy on validation set')\n",
    "\n",
    "    num_correct = 0\n",
    "    num_samples = 0\n",
    "    model.eval()  # set model to evaluation mode\n",
    "    with torch.no_grad():\n",
    "        for x, y in loader:\n",
    "            x = x.to(device=device, dtype=dtype)  # move to device, e.g. GPU\n",
    "            y = y.to(device=device, dtype=torch.long)\n",
    "            scores = model(x)\n",
    "            _, preds = scores.max(1)\n",
    "            num_correct += (preds == y).sum()\n",
    "            num_samples += preds.size(0)\n",
    "        \n",
    "    return num_correct, num_samples"
   ]
  },
  {
   "cell_type": "code",
   "execution_count": 39,
   "metadata": {},
   "outputs": [],
   "source": [
    "def train(model, optimizer, epochs=1):    \n",
    "    model = model.to(device=device)  # move the model parameters to CPU/GPU\n",
    "    for e in range(epochs):\n",
    "        for t, (x, y) in enumerate(loader_train):\n",
    "            model.train()  # put model to training mode\n",
    "            x = x.to(device=device, dtype=dtype)  # move to device, e.g. GPU\n",
    "            y = y.to(device=device, dtype=torch.long)\n",
    "\n",
    "            scores = model(x)\n",
    "            loss = F.cross_entropy(scores, y)\n",
    "\n",
    "            # Zero out all of the gradients for the variables which the optimizer\n",
    "            # will update.\n",
    "            optimizer.zero_grad()\n",
    "\n",
    "            # This is the backwards pass: compute the gradient of the loss with\n",
    "            # respect to each  parameter of the model.\n",
    "            loss.backward()\n",
    "\n",
    "            # Actually update the parameters of the model using the gradients\n",
    "            # computed by the backwards pass.\n",
    "            optimizer.step()\n",
    "\n",
    "        num_correct, num_samples = check_accuracy(loader_val, model)\n",
    "        epoch_acc = float(num_correct) / num_samples\n",
    "        print('Got %d / %d correct (%.2f) after epoch %d' % (num_correct, num_samples, 100 * epoch_acc, e+1))\n",
    "\n",
    "    return epoch_acc"
   ]
  },
  {
   "cell_type": "code",
   "execution_count": 40,
   "metadata": {},
   "outputs": [
    {
     "name": "stdout",
     "output_type": "stream",
     "text": [
      "Evaluating large dataset (input images are 3x256x256)\n",
      "----------------------------------------------------\n",
      "Checking accuracy on validation set\n",
      "Got 272 / 400 correct (68.00) after epoch 1\n",
      "Checking accuracy on validation set\n",
      "Got 316 / 400 correct (79.00) after epoch 2\n",
      "Checking accuracy on validation set\n",
      "Got 298 / 400 correct (74.50) after epoch 3\n"
     ]
    }
   ],
   "source": [
    "if SMALL_DATA:\n",
    "    input_h = 128\n",
    "else:\n",
    "    input_h = 256\n",
    "        \n",
    "channel_1 = 16\n",
    "channel_2 = 32\n",
    "channel_3 = 16\n",
    "channel_4 = 32\n",
    "num_classes = len(label_dict)\n",
    "\n",
    "# First pool layer\n",
    "kernel_size_1 = 2\n",
    "h_out_pool_1 = (input_h - (kernel_size_1 - 1)-1) / kernel_size_1 + 1\n",
    "\n",
    "# Second pool layer\n",
    "kernel_size_2 = 4\n",
    "h_out_pool_2 = (h_out_pool_1 - (kernel_size_2 - 1)-1) / kernel_size_2 + 1\n",
    "\n",
    "channel_out = int(channel_4 * h_out_pool_2 * h_out_pool_2) # flattened output size for affine\n",
    "\n",
    "EPOCHS = 3\n",
    "learning_rate = 1e-3\n",
    "\n",
    "model = nn.Sequential(\n",
    "        # Layer 1: Conv - batchnorm - relu - conv - batchnorm - relu - maxpool\n",
    "        nn.Conv2d(in_channels= 3, out_channels= channel_1, kernel_size= (7,7), padding=3),\n",
    "        nn.BatchNorm2d(channel_1),\n",
    "        nn.ReLU(),\n",
    "        nn.Conv2d(in_channels= channel_1, out_channels= channel_2, kernel_size= (5,5), padding=2),\n",
    "        nn.BatchNorm2d(channel_2),\n",
    "        nn.ReLU(),\n",
    "        nn.MaxPool2d(kernel_size= kernel_size_1),\n",
    "        # Layer 2: Conv - batchnorm - relu - conv - relu - maxpool\n",
    "        nn.Conv2d(in_channels= channel_2, out_channels= channel_3, kernel_size= (3,3), padding=1),\n",
    "        nn.BatchNorm2d(channel_3),\n",
    "        nn.ReLU(),\n",
    "        nn.Conv2d(in_channels= channel_3, out_channels= channel_4, kernel_size= (1,1), padding=0),\n",
    "        nn.ReLU(),\n",
    "        nn.MaxPool2d(kernel_size= kernel_size_2),\n",
    "        # Output: Affine\n",
    "        Flatten(),\n",
    "        nn.Linear(channel_out, num_classes))\n",
    "\n",
    "optimizer = optim.Adam(model.parameters(), lr=learning_rate)\n",
    "\n",
    "if SMALL_DATA:\n",
    "    print(\"Evaluating small dataset (input images are 3x128x128)\")\n",
    "    print(\"----------------------------------------------------\")\n",
    "else:\n",
    "    print(\"Evaluating large dataset (input images are 3x256x256)\")\n",
    "    print(\"----------------------------------------------------\")\n",
    "\n",
    "acc = train(model, optimizer, epochs = EPOCHS)"
   ]
  },
  {
   "cell_type": "markdown",
   "metadata": {},
   "source": []
  },
  {
   "cell_type": "code",
   "execution_count": null,
   "metadata": {},
   "outputs": [],
   "source": []
  }
 ],
 "metadata": {
  "kernelspec": {
   "display_name": "Python 3.10.7 64-bit",
   "language": "python",
   "name": "python3"
  },
  "language_info": {
   "codemirror_mode": {
    "name": "ipython",
    "version": 3
   },
   "file_extension": ".py",
   "mimetype": "text/x-python",
   "name": "python",
   "nbconvert_exporter": "python",
   "pygments_lexer": "ipython3",
   "version": "3.10.7"
  },
  "orig_nbformat": 4,
  "vscode": {
   "interpreter": {
    "hash": "aee8b7b246df8f9039afb4144a1f6fd8d2ca17a180786b69acc140d282b71a49"
   }
  }
 },
 "nbformat": 4,
 "nbformat_minor": 2
}
