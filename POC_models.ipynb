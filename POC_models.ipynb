{
 "cells": [
  {
   "cell_type": "code",
   "execution_count": 11,
   "metadata": {},
   "outputs": [],
   "source": [
    "import numpy as np\n",
    "import pandas as pd\n",
    "from sklearn.model_selection import train_test_split\n",
    "\n",
    "import torch\n",
    "import torch.nn as nn\n",
    "import torch.optim as optim\n",
    "from torch.utils.data import TensorDataset, DataLoader\n",
    "from torch.utils.data import sampler\n",
    "\n",
    "import torchvision.transforms as T"
   ]
  },
  {
   "cell_type": "code",
   "execution_count": 7,
   "metadata": {},
   "outputs": [],
   "source": [
    "USE_GPU = True\n",
    "if USE_GPU and torch.cuda.is_available():\n",
    "    device = torch.device('cuda')\n",
    "else:\n",
    "    device = torch.device('cpu')"
   ]
  },
  {
   "cell_type": "code",
   "execution_count": 36,
   "metadata": {},
   "outputs": [],
   "source": [
    "# Read in POC data\n",
    "small_data = pd.read_pickle(\"/Users/josephjamison/Downloads/CS231n_temp/4k_POC_small_data.pkl\")\n",
    "small_labels = pd.read_pickle(\"4k_POC_small_labels.pkl\")\n",
    "large_data = pd.read_pickle(\"/Users/josephjamison/Downloads/CS231n_temp/4k_POC_large_data.pkl\")\n",
    "large_labels = pd.read_pickle(\"4k_POC_large_labels.pkl\")"
   ]
  },
  {
   "cell_type": "code",
   "execution_count": 37,
   "metadata": {},
   "outputs": [
    {
     "name": "stdout",
     "output_type": "stream",
     "text": [
      "(4000, 3, 128, 128)\n",
      "(4000, 1)\n",
      "(4000, 3, 256, 256)\n",
      "(4000, 1)\n"
     ]
    }
   ],
   "source": [
    "# Re-size POC data and store as np arrays\n",
    "small_dim = 128\n",
    "large_dim = 256\n",
    "small_data = small_data.to_numpy().reshape(-1, 3, small_dim, small_dim)\n",
    "small_labels = small_labels.to_numpy()\n",
    "large_data = large_data.to_numpy().reshape(-1, 3, large_dim, large_dim)\n",
    "large_labels = large_labels.to_numpy()\n",
    "\n",
    "print(small_data.shape)\n",
    "print(small_labels.shape)\n",
    "print(large_data.shape)\n",
    "print(large_labels.shape)"
   ]
  },
  {
   "cell_type": "code",
   "execution_count": 38,
   "metadata": {},
   "outputs": [
    {
     "name": "stdout",
     "output_type": "stream",
     "text": [
      "{'airport_terminal': 0, 'bathroom': 1, 'dining_room': 2, 'highway': 3, 'skyscraper': 4}\n"
     ]
    }
   ],
   "source": [
    "label_dict = {}\n",
    "counter = 0\n",
    "for i in np.unique(small_labels):\n",
    "    label_dict[i] = counter\n",
    "    counter += 1\n",
    "\n",
    "print(label_dict)"
   ]
  },
  {
   "cell_type": "code",
   "execution_count": 39,
   "metadata": {},
   "outputs": [],
   "source": [
    "# Convert labels from strings to ints\n",
    "for i,j in label_dict.items():\n",
    "    small_labels[small_labels==i] = j\n",
    "    large_labels[large_labels==i] = j\n"
   ]
  },
  {
   "cell_type": "code",
   "execution_count": 40,
   "metadata": {},
   "outputs": [],
   "source": [
    "small_X_train, small_X_val, small_y_train, small_y_val = train_test_split(small_data, small_labels, test_size=0.1, random_state=42)\n",
    "large_X_train, large_X_val, large_y_train, large_y_val = train_test_split(large_data, large_labels, test_size=0.1, random_state=42)"
   ]
  },
  {
   "cell_type": "code",
   "execution_count": 41,
   "metadata": {},
   "outputs": [],
   "source": [
    "# Calculate channel mean and std for transformation of dataset\n",
    "small_mean = np.mean(small_X_train, axis = (0, 2, 3))\n",
    "small_std = np.std(small_X_train, axis = (0, 2, 3))\n",
    "large_mean = np.mean(large_X_train, axis = (0, 2, 3))\n",
    "large_std = np.std(large_X_train, axis = (0, 2, 3))\n"
   ]
  },
  {
   "cell_type": "code",
   "execution_count": 42,
   "metadata": {},
   "outputs": [
    {
     "ename": "TypeError",
     "evalue": "can't convert np.ndarray of type numpy.object_. The only supported types are: float64, float32, float16, complex64, complex128, int64, int32, int16, int8, uint8, and bool.",
     "output_type": "error",
     "traceback": [
      "\u001b[0;31m---------------------------------------------------------------------------\u001b[0m",
      "\u001b[0;31mTypeError\u001b[0m                                 Traceback (most recent call last)",
      "Cell \u001b[0;32mIn [42], line 6\u001b[0m\n\u001b[1;32m      4\u001b[0m small_X_train \u001b[38;5;241m=\u001b[39m small_transform\u001b[38;5;241m.\u001b[39mforward(torch\u001b[38;5;241m.\u001b[39mTensor(small_X_train))\n\u001b[1;32m      5\u001b[0m small_X_val \u001b[38;5;241m=\u001b[39m small_transform\u001b[38;5;241m.\u001b[39mforward(torch\u001b[38;5;241m.\u001b[39mTensor(small_X_val))\n\u001b[0;32m----> 6\u001b[0m small_y_train \u001b[38;5;241m=\u001b[39m \u001b[43mtorch\u001b[49m\u001b[38;5;241;43m.\u001b[39;49m\u001b[43mTensor\u001b[49m\u001b[43m(\u001b[49m\u001b[43msmall_y_train\u001b[49m\u001b[43m)\u001b[49m\n\u001b[1;32m      7\u001b[0m small_y_val \u001b[38;5;241m=\u001b[39m torch\u001b[38;5;241m.\u001b[39mTensor(small_y_val)\n\u001b[1;32m      9\u001b[0m large_X_train \u001b[38;5;241m=\u001b[39m large_transform\u001b[38;5;241m.\u001b[39mforward(torch\u001b[38;5;241m.\u001b[39mTensor(large_X_train))\n",
      "\u001b[0;31mTypeError\u001b[0m: can't convert np.ndarray of type numpy.object_. The only supported types are: float64, float32, float16, complex64, complex128, int64, int32, int16, int8, uint8, and bool."
     ]
    }
   ],
   "source": [
    "small_transform = T.Normalize(small_mean, small_std)\n",
    "large_transform = T.Normalize(large_mean, large_std)\n",
    "\n",
    "small_X_train = small_transform.forward(torch.Tensor(small_X_train))\n",
    "small_X_val = small_transform.forward(torch.Tensor(small_X_val))\n",
    "small_y_train = torch.Tensor(small_y_train)\n",
    "small_y_val = torch.Tensor(small_y_val)\n",
    "\n",
    "large_X_train = large_transform.forward(torch.Tensor(large_X_train))\n",
    "large_X_val = large_transform.forward(torch.Tensor(large_X_val))\n",
    "large_y_train = torch.Tensor(large_y_train)\n",
    "large_y_val = torch.Tensor(large_y_val)\n",
    "\n",
    "# my_dataset = TensorDataset(tensor_x,tensor_y) # create your datset\n",
    "# my_dataloader = DataLoader(my_dataset) # create your dataloader"
   ]
  },
  {
   "cell_type": "code",
   "execution_count": null,
   "metadata": {},
   "outputs": [],
   "source": [
    "# We set up a Dataset object for each split (train / val / test); Datasets load\n",
    "# training examples one at a time, so we wrap each Dataset in a DataLoader which\n",
    "# iterates through the Dataset and forms minibatches. We divide the CIFAR-10\n",
    "# training set into train and val sets by passing a Sampler object to the\n",
    "# DataLoader telling how it should sample from the underlying Dataset.\n",
    "\n",
    "# cifar10_train = dset.CIFAR10('./cs231n/datasets', train=True, download=True,\n",
    "#                              transform=transform)\n",
    "small_dataset = TensorDataset(small_X_train)\n",
    "loader_train = DataLoader(cifar10_train, batch_size=64, \n",
    "                          sampler=sampler.SubsetRandomSampler(range(NUM_TRAIN)))\n",
    "\n",
    "cifar10_val = dset.CIFAR10('./cs231n/datasets', train=True, download=True,\n",
    "                           transform=transform)\n",
    "loader_val = DataLoader(cifar10_val, batch_size=64, \n",
    "                        sampler=sampler.SubsetRandomSampler(range(NUM_TRAIN, 50000)))\n",
    "\n",
    "cifar10_test = dset.CIFAR10('./cs231n/datasets', train=False, download=True, \n",
    "                            transform=transform)\n",
    "loader_test = DataLoader(cifar10_test, batch_size=64)"
   ]
  },
  {
   "cell_type": "code",
   "execution_count": null,
   "metadata": {},
   "outputs": [],
   "source": [
    "def flatten(x):\n",
    "    N = x.shape[0] # read in N, C, H, W\n",
    "    return x.view(N, -1)  # \"flatten\" the C * H * W values into a single vector per image\n",
    "    \n",
    "# We need to wrap `flatten` function in a module in order to stack it\n",
    "# in nn.Sequential\n",
    "class Flatten(nn.Module):\n",
    "    def forward(self, x):\n",
    "        return flatten(x)"
   ]
  },
  {
   "cell_type": "code",
   "execution_count": null,
   "metadata": {},
   "outputs": [],
   "source": [
    "def check_accuracy(loader, model):\n",
    "    if loader.dataset.train:\n",
    "        print('Checking accuracy on validation set')\n",
    "    else:\n",
    "        print('Checking accuracy on test set')   \n",
    "    num_correct = 0\n",
    "    num_samples = 0\n",
    "    model.eval()  # set model to evaluation mode\n",
    "    with torch.no_grad():\n",
    "        for x, y in loader:\n",
    "            x = x.to(device=device, dtype=dtype)  # move to device, e.g. GPU\n",
    "            y = y.to(device=device, dtype=torch.long)\n",
    "            scores = model(x)\n",
    "            _, preds = scores.max(1)\n",
    "            num_correct += (preds == y).sum()\n",
    "            num_samples += preds.size(0)\n",
    "        \n",
    "    return num_correct, num_samples"
   ]
  },
  {
   "cell_type": "code",
   "execution_count": null,
   "metadata": {},
   "outputs": [],
   "source": [
    "def train(model, optimizer, epochs=1):    \n",
    "    model = model.to(device=device)  # move the model parameters to CPU/GPU\n",
    "    for e in range(epochs):\n",
    "        for t, (x, y) in enumerate(loader_train):\n",
    "            model.train()  # put model to training mode\n",
    "            x = x.to(device=device, dtype=dtype)  # move to device, e.g. GPU\n",
    "            y = y.to(device=device, dtype=torch.long)\n",
    "\n",
    "            scores = model(x)\n",
    "            loss = F.cross_entropy(scores, y)\n",
    "\n",
    "            # Zero out all of the gradients for the variables which the optimizer\n",
    "            # will update.\n",
    "            optimizer.zero_grad()\n",
    "\n",
    "            # This is the backwards pass: compute the gradient of the loss with\n",
    "            # respect to each  parameter of the model.\n",
    "            loss.backward()\n",
    "\n",
    "            # Actually update the parameters of the model using the gradients\n",
    "            # computed by the backwards pass.\n",
    "            optimizer.step()\n",
    "\n",
    "        num_correct, num_samples = check_accuracy(loader_val, model)\n",
    "        epoch_acc = float(num_correct) / num_samples\n",
    "        print('Got %d / %d correct (%.2f) after epoch %d' % (num_correct, num_samples, 100 * epoch_acc, e+1))\n",
    "\n",
    "    return epoch_acc"
   ]
  },
  {
   "cell_type": "code",
   "execution_count": null,
   "metadata": {},
   "outputs": [],
   "source": [
    "model = nn.Sequential(\n",
    "        nn.Conv2d(in_channels= 3, out_channels= channel_1, kernel_size= (3,3), padding=3),\n",
    "        nn.BatchNorm2d(channel_1),\n",
    "        nn.ReLU(),\n",
    "        nn.Conv2d(in_channels= channel_1, out_channels= channel_2, kernel_size= (5,5), padding=2),\n",
    "        # nn.Dropout2d(p= 0.3),\n",
    "        nn.BatchNorm2d(channel_2),\n",
    "        nn.ReLU(),\n",
    "        nn.MaxPool2d(kernel_size= kernel_size_1),\n",
    "        nn.Conv2d(in_channels= channel_2, out_channels= channel_3, kernel_size= (3,3), padding=1),\n",
    "        nn.ReLU(),\n",
    "        nn.BatchNorm2d(channel_3),\n",
    "        nn.Conv2d(in_channels= channel_3, out_channels= channel_4, kernel_size= (1,1), padding=0),\n",
    "        nn.ReLU(),\n",
    "        nn.MaxPool2d(kernel_size= kernel_size_2),\n",
    "        Flatten(),\n",
    "        nn.Linear(channel_out, 10))\n",
    "\n",
    "optimizer = optim.SGD(model.parameters(), lr=lr,\n",
    "                        momentum=0.9, nesterov=True)\n",
    "\n",
    "acc = 5(model, optimizer, epochs = EPOCHS)"
   ]
  }
 ],
 "metadata": {
  "kernelspec": {
   "display_name": "Python 3.10.7 64-bit",
   "language": "python",
   "name": "python3"
  },
  "language_info": {
   "codemirror_mode": {
    "name": "ipython",
    "version": 3
   },
   "file_extension": ".py",
   "mimetype": "text/x-python",
   "name": "python",
   "nbconvert_exporter": "python",
   "pygments_lexer": "ipython3",
   "version": "3.10.7"
  },
  "orig_nbformat": 4,
  "vscode": {
   "interpreter": {
    "hash": "aee8b7b246df8f9039afb4144a1f6fd8d2ca17a180786b69acc140d282b71a49"
   }
  }
 },
 "nbformat": 4,
 "nbformat_minor": 2
}
